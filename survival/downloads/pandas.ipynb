{
 "cells": [
  {
   "cell_type": "markdown",
   "metadata": {
    "nbgrader": {
     "checksum": "6303765b70eecd1da63039ff66ece9a7",
     "grade": false,
     "grade_id": "cell-e156d3a02cc85105",
     "locked": true,
     "schema_version": 3,
     "solution": false,
     "task": false
    }
   },
   "source": [
    "# Pandas\n",
    "\n",
    "In this series of exercises you will learn to use the library `pandas`. Pandas is a very popular library for storing and manipualting data. We will be relying on the [Python Data Science Handbook](https://jakevdp.github.io/PythonDataScienceHandbook/).\n",
    "\n",
    "Below each of the exercises is a set of assertions that test whether you gave the correct answer."
   ]
  },
  {
   "cell_type": "markdown",
   "metadata": {
    "nbgrader": {
     "checksum": "97718693d7af5170946ee0313a76fe45",
     "grade": false,
     "grade_id": "cell-e293e349bf745fb4",
     "locked": true,
     "schema_version": 3,
     "solution": false,
     "task": false
    }
   },
   "source": [
    "## Series \n",
    "\n",
    "Start by reading the introduction of `panda` objects [here](https://jakevdp.github.io/PythonDataScienceHandbook/03.01-introducing-pandas-objects.html).\n",
    "\n",
    "### Exercise 1\n",
    "\n",
    "Create a `Series`-object named `earnings` containing the following *figures* and using the *sources* as its index."
   ]
  },
  {
   "cell_type": "code",
   "execution_count": null,
   "metadata": {
    "nbgrader": {
     "checksum": "98b15fc1c5cc100394ed9d5b06b9acac",
     "grade": false,
     "grade_id": "cell-08d1e678831a6cb7",
     "locked": false,
     "schema_version": 3,
     "solution": true,
     "task": false
    }
   },
   "outputs": [],
   "source": [
    "from pandas import Series\n",
    "import pandas as pd\n",
    "\n",
    "earnings_sources = [\"sales\", \"ads\", \"subscriptions\", \"donations\"]\n",
    "earnings_figures = [39041, 8702, 13200, 292]\n",
    "\n",
    "# your code here\n",
    "\n",
    "display(earnings)"
   ]
  },
  {
   "cell_type": "markdown",
   "metadata": {
    "nbgrader": {
     "checksum": "d3475e598b672ebd549033c2492a70e3",
     "grade": false,
     "grade_id": "cell-db980f180e853f8a",
     "locked": true,
     "schema_version": 3,
     "solution": false,
     "task": false
    }
   },
   "source": [
    "## DataFrames\n",
    "\n",
    "### Exercise 2\n",
    "\n",
    "Create a `DataFrame` named `skittles` with the *columns* `amount` and `rating`, using the different colors as the *index*.\n",
    "\n",
    "|&nbsp;      | amount | rating |\n",
    "|------------|--------|--------|\n",
    "| **red**    | 7      | 3      |\n",
    "| **green**  | 4      | 4      |\n",
    "| **blue**   | 6      | 2      |\n",
    "| **purple** | 5      | 4      |\n",
    "| **pink**   | 6      | 3.5    |"
   ]
  },
  {
   "cell_type": "code",
   "execution_count": null,
   "metadata": {
    "nbgrader": {
     "checksum": "1a60a147b1b86e6315e94336a18eff17",
     "grade": false,
     "grade_id": "cell-9c6637d8f47dcc08",
     "locked": false,
     "schema_version": 3,
     "solution": true,
     "task": false
    }
   },
   "outputs": [],
   "source": [
    "from pandas import DataFrame\n",
    "\n",
    "# your code here\n",
    "display(skittles)"
   ]
  },
  {
   "cell_type": "code",
   "execution_count": null,
   "metadata": {
    "nbgrader": {
     "checksum": "93b3e1784074495414ab6f4a25c18dd0",
     "grade": true,
     "grade_id": "cell-1c954e8d9484f4be",
     "locked": true,
     "points": 1,
     "schema_version": 3,
     "solution": false,
     "task": false
    }
   },
   "outputs": [],
   "source": [
    "assert type(skittles) is DataFrame\n",
    "assert list(skittles.index) == [\"red\", \"green\", \"blue\", \"purple\", \"pink\"]\n",
    "assert list(skittles.columns) == [\"amount\", \"rating\"]\n",
    "assert skittles.loc[\"red\", \"amount\"] == 7\n",
    "assert skittles.loc[\"blue\", \"rating\"] == 2"
   ]
  },
  {
   "cell_type": "markdown",
   "metadata": {
    "nbgrader": {
     "checksum": "5e589a91059033c4241957efb36d4404",
     "grade": false,
     "grade_id": "cell-9dbfbadb8072e6c4",
     "locked": true,
     "schema_version": 3,
     "solution": false,
     "task": false
    }
   },
   "source": [
    "### Exercise 3\n",
    "\n",
    "Select the column `amount` as a series and save as `skittles_amount`."
   ]
  },
  {
   "cell_type": "code",
   "execution_count": null,
   "metadata": {
    "nbgrader": {
     "checksum": "9b3ed87da08899da9d4107dad4d60299",
     "grade": false,
     "grade_id": "cell-a0639cda27f32fc7",
     "locked": false,
     "schema_version": 3,
     "solution": true,
     "task": false
    }
   },
   "outputs": [],
   "source": [
    "# your code here\n",
    "display(skittles_amount)"
   ]
  },
  {
   "cell_type": "code",
   "execution_count": null,
   "metadata": {},
   "outputs": [],
   "source": [
    "assert type(skittles_amount) = Series"
   ]
  },
  {
   "cell_type": "markdown",
   "metadata": {},
   "source": [
    "### Exercise 4\n",
    "\n",
    "Calculate the mean `rating` and save as `skittles_average`."
   ]
  },
  {
   "cell_type": "code",
   "execution_count": null,
   "metadata": {},
   "outputs": [],
   "source": [
    "# your code here\n",
    "display(skittles_average)"
   ]
  },
  {
   "cell_type": "code",
   "execution_count": null,
   "metadata": {
    "nbgrader": {
     "checksum": "9feb3280046320ce313613afef3e6c29",
     "grade": true,
     "grade_id": "cell-4a63780e28d4318f",
     "locked": true,
     "points": 1,
     "schema_version": 3,
     "solution": false,
     "task": false
    }
   },
   "outputs": [],
   "source": [
    "float(skittles_average)\n",
    "assert skittles_average == 3.3"
   ]
  },
  {
   "cell_type": "markdown",
   "metadata": {
    "nbgrader": {
     "checksum": "61fd71b18d322f9c65402c62fcfcc323",
     "grade": false,
     "grade_id": "cell-39f6de36e08a7146",
     "locked": true,
     "schema_version": 3,
     "solution": false,
     "task": false
    }
   },
   "source": [
    "### Exercise 5\n",
    "\n",
    "Add a new column to the skittles `DataFrame` called `score`. The score of a color is equal to `amount * rating`."
   ]
  },
  {
   "cell_type": "code",
   "execution_count": null,
   "metadata": {
    "nbgrader": {
     "checksum": "d1766fd2403b0274b9af456003f45943",
     "grade": false,
     "grade_id": "cell-44c741b6c7562337",
     "locked": false,
     "schema_version": 3,
     "solution": true,
     "task": false
    }
   },
   "outputs": [],
   "source": [
    "# your code here\n",
    "display(skittles)"
   ]
  },
  {
   "cell_type": "code",
   "execution_count": null,
   "metadata": {
    "nbgrader": {
     "checksum": "c7cb61b2a66981b7361c496198d870a7",
     "grade": true,
     "grade_id": "cell-8d4b31a62e056a4c",
     "locked": true,
     "points": 1,
     "schema_version": 3,
     "solution": false,
     "task": false
    }
   },
   "outputs": [],
   "source": [
    "assert \"score\" in skittles"
   ]
  },
  {
   "cell_type": "markdown",
   "metadata": {
    "nbgrader": {
     "checksum": "2ff7baac42a279709318f83e8b991a55",
     "grade": false,
     "grade_id": "cell-cc6978bc2a03800b",
     "locked": true,
     "schema_version": 3,
     "solution": false,
     "task": false
    }
   },
   "source": [
    "## Indexing and selection\n",
    "\n",
    "Read the [next](https://jakevdp.github.io/PythonDataScienceHandbook/03.02-data-indexing-and-selection.html) part of the reference.\n",
    "\n",
    "### Exercise 6\n",
    "\n",
    "For the given `DataFrame` select only columns 'a', 'c', and 'e', and rows 10, 20, 50, 60 and store the result in the variable `frame2`."
   ]
  },
  {
   "cell_type": "code",
   "execution_count": null,
   "metadata": {
    "nbgrader": {
     "checksum": "167d76c1ba7f91d54422e3ab17e37aac",
     "grade": false,
     "grade_id": "cell-a7305488e1ae7000",
     "locked": false,
     "schema_version": 3,
     "solution": true,
     "task": false
    }
   },
   "outputs": [],
   "source": [
    "import numpy as np\n",
    "\n",
    "frame = DataFrame(np.arange(6 * 7.).reshape((6, 7)), index=[10, 20, 30, 40, 50, 60], columns=list('abcdefg'))\n",
    "\n",
    "# your code here\n",
    "display(frame2)"
   ]
  },
  {
   "cell_type": "code",
   "execution_count": null,
   "metadata": {
    "nbgrader": {
     "checksum": "33c82d48c58b8d8dc015e0801d90c413",
     "grade": true,
     "grade_id": "cell-6cf72e8c3526a88a",
     "locked": true,
     "points": 1,
     "schema_version": 3,
     "solution": false,
     "task": false
    }
   },
   "outputs": [],
   "source": [
    "assert type(frame2) == DataFrame"
   ]
  },
  {
   "cell_type": "markdown",
   "metadata": {
    "nbgrader": {
     "checksum": "f1343005244befb8666ece4c506ad209",
     "grade": false,
     "grade_id": "cell-1ff423e018fe6b17",
     "locked": true,
     "schema_version": 3,
     "solution": false,
     "task": false
    }
   },
   "source": [
    "### Exercise 7\n",
    "\n",
    "Replace all values in the data frame `frame` that are *divisible by 3* with the value *0*."
   ]
  },
  {
   "cell_type": "code",
   "execution_count": null,
   "metadata": {
    "nbgrader": {
     "checksum": "e75a8c44cfece966c5140a6ec0e2b5e0",
     "grade": false,
     "grade_id": "cell-a0d227a359b7a2d8",
     "locked": false,
     "schema_version": 3,
     "solution": true,
     "task": false
    }
   },
   "outputs": [],
   "source": [
    "frame = DataFrame(np.arange(6 * 7.).reshape((6, 7)), index=[10, 20, 30, 40, 50, 60], columns=list('abcdefg'))\n",
    "# your code here\n",
    "display(frame)"
   ]
  },
  {
   "cell_type": "code",
   "execution_count": null,
   "metadata": {
    "nbgrader": {
     "checksum": "19f3c4111ab5702b1c04326cd3aca8c4",
     "grade": true,
     "grade_id": "cell-d3178809b040bf79",
     "locked": true,
     "points": 1,
     "schema_version": 3,
     "solution": false,
     "task": false
    }
   },
   "outputs": [],
   "source": [
    "assert type(frame) == DataFrame"
   ]
  },
  {
   "cell_type": "markdown",
   "metadata": {
    "nbgrader": {
     "checksum": "c5212fb0408efb906a38f05e1ebbd95a",
     "grade": false,
     "grade_id": "cell-b0cc2afba8d064b6",
     "locked": true,
     "schema_version": 3,
     "solution": false,
     "task": false
    }
   },
   "source": [
    "### Exercise 8\n",
    "\n",
    "Select all rows from `frame` where `a > 20`, save the result in `frame3`."
   ]
  },
  {
   "cell_type": "code",
   "execution_count": null,
   "metadata": {
    "nbgrader": {
     "checksum": "50ec87a5ca04f171f8d524f3af2ffded",
     "grade": false,
     "grade_id": "cell-65a850d571a08e13",
     "locked": false,
     "schema_version": 3,
     "solution": true,
     "task": false
    }
   },
   "outputs": [],
   "source": [
    "frame = DataFrame(np.concatenate((np.arange(2 * 7.), np.arange(4 * 7., 0, -1))).reshape((6, 7)),\n",
    "                  index=[10, 20, 30, 40, 50, 60], columns=list('abcdefg'))\n",
    "\n",
    "# your code here\n",
    "display(frame3)"
   ]
  },
  {
   "cell_type": "markdown",
   "metadata": {},
   "source": [
    "## Operating on dataframes\n",
    "\n",
    "Read about [operations in pandas](https://jakevdp.github.io/PythonDataScienceHandbook/03.03-operations-in-pandas.html).\n",
    "\n",
    "### Exercise 9\n",
    "Compute the mean for each column of `frame` below. Store the result in a Series called `mean`."
   ]
  },
  {
   "cell_type": "code",
   "execution_count": null,
   "metadata": {
    "nbgrader": {
     "checksum": "531e42ea77b6fdc06a7e65a2c345c596",
     "grade": false,
     "grade_id": "cell-5ec92422ebfbfaff",
     "locked": false,
     "schema_version": 3,
     "solution": true,
     "task": false
    }
   },
   "outputs": [],
   "source": [
    "frame = DataFrame(np.arange(6 * 7.).reshape((6, 7)), index=[10, 20, 30, 40, 50, 60], columns=list('abcdefg'))\n",
    "\n",
    "# your code here\n",
    "display(mean)"
   ]
  },
  {
   "cell_type": "code",
   "execution_count": null,
   "metadata": {
    "nbgrader": {
     "checksum": "b1a2d1463972545ea0a1486364e14def",
     "grade": true,
     "grade_id": "cell-803ba91586590236",
     "locked": true,
     "points": 1,
     "schema_version": 3,
     "solution": false,
     "task": false
    }
   },
   "outputs": [],
   "source": [
    "assert type(mean) is Series"
   ]
  },
  {
   "cell_type": "markdown",
   "metadata": {
    "nbgrader": {
     "checksum": "4db1f5b5573ce023883c4269005b12f8",
     "grade": false,
     "grade_id": "cell-01c7cb7653a5c2b9",
     "locked": true,
     "schema_version": 3,
     "solution": false,
     "task": false
    }
   },
   "source": [
    "### Exercise 10\n",
    "\n",
    "Do the same as above, but compute the mean of each row instead of column."
   ]
  },
  {
   "cell_type": "code",
   "execution_count": null,
   "metadata": {
    "nbgrader": {
     "checksum": "e1503a445c42eb3cfb4996ffdef647af",
     "grade": false,
     "grade_id": "cell-4ac8e1f1864080a9",
     "locked": false,
     "schema_version": 3,
     "solution": true,
     "task": false
    }
   },
   "outputs": [],
   "source": [
    "frame = DataFrame(np.arange(6 * 7.).reshape((6, 7)), index=[10, 20, 30, 40, 50, 60], columns=list('abcdefg'))\n",
    "\n",
    "# your code here\n",
    "display(mean)"
   ]
  },
  {
   "cell_type": "code",
   "execution_count": null,
   "metadata": {
    "nbgrader": {
     "checksum": "82ca22fc3150f87459d6a9d64f1e86b7",
     "grade": true,
     "grade_id": "cell-74b93d2138a2653a",
     "locked": true,
     "points": 1,
     "schema_version": 3,
     "solution": false,
     "task": false
    }
   },
   "outputs": [],
   "source": [
    "assert type(mean) is Series"
   ]
  },
  {
   "cell_type": "markdown",
   "metadata": {
    "nbgrader": {
     "checksum": "b03c47ff234bf20f128a104222e254d5",
     "grade": false,
     "grade_id": "cell-d611e646232aebec",
     "locked": true,
     "schema_version": 3,
     "solution": false,
     "task": false
    }
   },
   "source": [
    "This completes this `pandas` introduction."
   ]
  }
 ],
 "metadata": {
  "kernelspec": {
   "display_name": "Python 3",
   "language": "python",
   "name": "python3"
  },
  "language_info": {
   "codemirror_mode": {
    "name": "ipython",
    "version": 3
   },
   "file_extension": ".py",
   "mimetype": "text/x-python",
   "name": "python",
   "nbconvert_exporter": "python",
   "pygments_lexer": "ipython3",
   "version": "3.7.5"
  }
 },
 "nbformat": 4,
 "nbformat_minor": 2
}
